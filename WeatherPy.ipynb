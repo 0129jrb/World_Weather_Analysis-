{
 "cells": [
  {
   "cell_type": "code",
   "execution_count": 9,
   "metadata": {},
   "outputs": [],
   "source": [
    "#import the dependencies \n",
    "import pandas as pd \n",
    "import matplotlib.pyplot as plt \n",
    "import numpy as np"
   ]
  },
  {
   "cell_type": "code",
   "execution_count": 10,
   "metadata": {},
   "outputs": [
    {
     "data": {
      "text/plain": [
       "<zip at 0x7fc8d86b0aa0>"
      ]
     },
     "execution_count": 10,
     "metadata": {},
     "output_type": "execute_result"
    }
   ],
   "source": [
    "#create a set of random latitdue and longitude comninations \n",
    "lats = np.random.uniform(low = -90.000, high=90.000, size = 1500)\n",
    "lngs = np.random.uniform(low = 180.000, high = 180.000, size=1500)\n",
    "lat_lngs = zip(lats, lngs)\n",
    "lat_lngs"
   ]
  },
  {
   "cell_type": "code",
   "execution_count": 40,
   "metadata": {},
   "outputs": [],
   "source": [
    "import requests \n",
    "from config import weather_api_key\n",
    "from citipy import citipy "
   ]
  },
  {
   "cell_type": "code",
   "execution_count": 41,
   "metadata": {},
   "outputs": [
    {
     "name": "stdout",
     "output_type": "stream",
     "text": [
      "http://api.openweathermap.org/data/2.5/weather?units=Imperial&APPID=0a76512f1b7f80ce6ab8b33895d66a0f\n"
     ]
    }
   ],
   "source": [
    "#starting URL for weather Map API Call.\n",
    "url =\"http://api.openweathermap.org/data/2.5/weather?units=Imperial&APPID=\" + weather_api_key\n",
    "print(url)"
   ]
  },
  {
   "cell_type": "code",
   "execution_count": 42,
   "metadata": {},
   "outputs": [],
   "source": [
    "from datetime import datetime "
   ]
  },
  {
   "cell_type": "code",
   "execution_count": 43,
   "metadata": {},
   "outputs": [
    {
     "name": "stdout",
     "output_type": "stream",
     "text": [
      "City not found. Skipping...\n",
      "Beginning Data Retrieval     \n",
      "-----------------------------\n"
     ]
    }
   ],
   "source": [
    "# Run an API request for each of the cities.\n",
    "try:\n",
    "        # Parse the JSON and retrieve data.\n",
    "        city_weather = requests.get(city_url).json()\n",
    "        # Parse out the needed data.\n",
    "        city_lat = city_weather[\"coord\"][\"lat\"]\n",
    "        city_lng = city_weather[\"coord\"][\"lon\"]\n",
    "        city_max_temp = city_weather[\"main\"][\"temp_max\"]\n",
    "        city_humidity = city_weather[\"main\"][\"humidity\"]\n",
    "        city_clouds = city_weather[\"clouds\"][\"all\"]\n",
    "        city_wind = city_weather[\"wind\"][\"speed\"]\n",
    "        city_country = city_weather[\"sys\"][\"country\"]\n",
    "        # Convert the date to ISO standard.\n",
    "        city_date = datetime.utcfromtimestamp(city_weather[\"dt\"]).strftime('%Y-%m-%d %H:%M:%S')\n",
    "        # Append the city information into city_data list.\n",
    "        city_data.append({\"City\": city.title(),\n",
    "                          \"Lat\": city_lat,\n",
    "                          \"Lng\": city_lng,\n",
    "                          \"Max Temp\": city_max_temp,\n",
    "                          \"Humidity\": city_humidity,\n",
    "                          \"Cloudiness\": city_clouds,\n",
    "                          \"Wind Speed\": city_wind,\n",
    "                          \"Country\": city_country,\n",
    "                          \"Date\": city_date})\n",
    "\n",
    "# If an error is experienced, skip the city.\n",
    "except:\n",
    "        print(\"City not found. Skipping...\")\n",
    "        pass\n",
    "# Create an empty list to hold the weather data.\n",
    "city_data = []\n",
    "# Print the beginning of the logging.\n",
    "print(\"Beginning Data Retrieval     \")\n",
    "print(\"-----------------------------\")\n",
    "\n",
    "# Create counters.\n",
    "record_count = 1\n",
    "set_count = 1"
   ]
  },
  {
   "cell_type": "code",
   "execution_count": 44,
   "metadata": {},
   "outputs": [
    {
     "name": "stdout",
     "output_type": "stream",
     "text": [
      "Processing Record 1 of Set 1 | h\n",
      "Processing Record 2 of Set 1 | t\n",
      "Processing Record 3 of Set 1 | t\n",
      "Processing Record 4 of Set 1 | p\n",
      "Processing Record 5 of Set 1 | :\n",
      "Processing Record 6 of Set 1 | /\n",
      "Processing Record 7 of Set 1 | /\n",
      "Processing Record 8 of Set 1 | a\n",
      "Processing Record 9 of Set 1 | p\n",
      "Processing Record 10 of Set 1 | i\n",
      "Processing Record 11 of Set 1 | .\n",
      "Processing Record 12 of Set 1 | o\n",
      "Processing Record 13 of Set 1 | p\n",
      "Processing Record 14 of Set 1 | e\n",
      "Processing Record 15 of Set 1 | n\n",
      "Processing Record 16 of Set 1 | w\n",
      "Processing Record 17 of Set 1 | e\n",
      "Processing Record 18 of Set 1 | a\n",
      "Processing Record 19 of Set 1 | t\n",
      "Processing Record 20 of Set 1 | h\n",
      "Processing Record 21 of Set 1 | e\n",
      "Processing Record 22 of Set 1 | r\n",
      "Processing Record 23 of Set 1 | m\n",
      "Processing Record 24 of Set 1 | a\n",
      "Processing Record 25 of Set 1 | p\n",
      "Processing Record 26 of Set 1 | .\n",
      "Processing Record 27 of Set 1 | o\n",
      "Processing Record 28 of Set 1 | r\n",
      "Processing Record 29 of Set 1 | g\n",
      "Processing Record 30 of Set 1 | /\n",
      "Processing Record 31 of Set 1 | d\n",
      "Processing Record 32 of Set 1 | a\n",
      "Processing Record 33 of Set 1 | t\n",
      "Processing Record 34 of Set 1 | a\n",
      "Processing Record 35 of Set 1 | /\n",
      "Processing Record 36 of Set 1 | 2\n",
      "Processing Record 37 of Set 1 | .\n",
      "Processing Record 38 of Set 1 | 5\n",
      "Processing Record 39 of Set 1 | /\n",
      "Processing Record 40 of Set 1 | w\n",
      "Processing Record 41 of Set 1 | e\n",
      "Processing Record 42 of Set 1 | a\n",
      "Processing Record 43 of Set 1 | t\n",
      "Processing Record 44 of Set 1 | h\n",
      "Processing Record 45 of Set 1 | e\n",
      "Processing Record 46 of Set 1 | r\n",
      "Processing Record 47 of Set 1 | ?\n",
      "Processing Record 48 of Set 1 | u\n",
      "Processing Record 49 of Set 1 | n\n",
      "Processing Record 50 of Set 1 | i\n",
      "Processing Record 1 of Set 2 | t\n",
      "Processing Record 2 of Set 2 | s\n",
      "Processing Record 3 of Set 2 | =\n",
      "Processing Record 4 of Set 2 | I\n",
      "Processing Record 5 of Set 2 | m\n",
      "Processing Record 6 of Set 2 | p\n",
      "Processing Record 7 of Set 2 | e\n",
      "Processing Record 8 of Set 2 | r\n",
      "Processing Record 9 of Set 2 | i\n",
      "Processing Record 10 of Set 2 | a\n",
      "Processing Record 11 of Set 2 | l\n",
      "Processing Record 12 of Set 2 | &\n",
      "Processing Record 13 of Set 2 | A\n",
      "Processing Record 14 of Set 2 | P\n",
      "Processing Record 15 of Set 2 | P\n",
      "Processing Record 16 of Set 2 | I\n",
      "Processing Record 17 of Set 2 | D\n",
      "Processing Record 18 of Set 2 | =\n",
      "Processing Record 19 of Set 2 | 0\n",
      "Processing Record 20 of Set 2 | a\n",
      "Processing Record 21 of Set 2 | 7\n",
      "Processing Record 22 of Set 2 | 6\n",
      "Processing Record 23 of Set 2 | 5\n",
      "Processing Record 24 of Set 2 | 1\n",
      "Processing Record 25 of Set 2 | 2\n",
      "Processing Record 26 of Set 2 | f\n",
      "Processing Record 27 of Set 2 | 1\n",
      "Processing Record 28 of Set 2 | b\n",
      "Processing Record 29 of Set 2 | 7\n",
      "Processing Record 30 of Set 2 | f\n",
      "Processing Record 31 of Set 2 | 8\n",
      "Processing Record 32 of Set 2 | 0\n",
      "Processing Record 33 of Set 2 | c\n",
      "Processing Record 34 of Set 2 | e\n",
      "Processing Record 35 of Set 2 | 6\n",
      "Processing Record 36 of Set 2 | a\n",
      "Processing Record 37 of Set 2 | b\n",
      "Processing Record 38 of Set 2 | 8\n",
      "Processing Record 39 of Set 2 | b\n",
      "Processing Record 40 of Set 2 | 3\n",
      "Processing Record 41 of Set 2 | 3\n",
      "Processing Record 42 of Set 2 | 8\n",
      "Processing Record 43 of Set 2 | 9\n",
      "Processing Record 44 of Set 2 | 5\n",
      "Processing Record 45 of Set 2 | d\n",
      "Processing Record 46 of Set 2 | 6\n",
      "Processing Record 47 of Set 2 | 6\n",
      "Processing Record 48 of Set 2 | a\n",
      "Processing Record 49 of Set 2 | 0\n",
      "Processing Record 50 of Set 2 | f\n"
     ]
    }
   ],
   "source": [
    "# Loop through all the cities in the list.\n",
    "for i, city in enumerate(cities):\n",
    "\n",
    "    # Group cities in sets of 50 for logging purposes.\n",
    "    if (i % 50 == 0 and i >= 50):\n",
    "        set_count += 1\n",
    "        record_count = 1\n",
    "    # Create endpoint URL with each city.\n",
    "    city_url = url + \"&q=\" + city.replace(\" \",\"+\")\n",
    "\n",
    "    # Log the URL, record, and set numbers and the city.\n",
    "    print(f\"Processing Record {record_count} of Set {set_count} | {city}\")\n",
    "    # Add 1 to the record count.\n",
    "    record_count += 1"
   ]
  },
  {
   "cell_type": "code",
   "execution_count": null,
   "metadata": {},
   "outputs": [],
   "source": []
  },
  {
   "cell_type": "code",
   "execution_count": null,
   "metadata": {},
   "outputs": [],
   "source": []
  }
 ],
 "metadata": {
  "kernelspec": {
   "display_name": "Python 3",
   "language": "python",
   "name": "python3"
  },
  "language_info": {
   "codemirror_mode": {
    "name": "ipython",
    "version": 3
   },
   "file_extension": ".py",
   "mimetype": "text/x-python",
   "name": "python",
   "nbconvert_exporter": "python",
   "pygments_lexer": "ipython3",
   "version": "3.7.9"
  }
 },
 "nbformat": 4,
 "nbformat_minor": 4
}
